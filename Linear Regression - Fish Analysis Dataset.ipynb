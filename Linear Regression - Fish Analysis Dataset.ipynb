{
 "cells": [
  {
   "cell_type": "markdown",
   "id": "67cb60b6",
   "metadata": {},
   "source": [
    "## Problem Statement"
   ]
  },
  {
   "cell_type": "markdown",
   "id": "b63c1578",
   "metadata": {},
   "source": [
    "* Plot a bar chart showing count of individual species? \n",
    "* Identify outliers and remove if any? \n",
    "* Build a regression model and print regression equation? \n",
    "* What is the mean score of the model at 95% confidence interval? \n",
    "* Compare real and predicted weights and give a conclusion statement based on it? "
   ]
  },
  {
   "cell_type": "markdown",
   "id": "cbbafa38",
   "metadata": {},
   "source": [
    "## Import Libraries"
   ]
  },
  {
   "cell_type": "code",
   "execution_count": 1,
   "id": "3525747a",
   "metadata": {},
   "outputs": [],
   "source": [
    "import pandas as pd\n",
    "import numpy as np\n",
    "import matplotlib.pyplot as plt\n",
    "%matplotlib inline\n",
    "import seaborn as sns\n",
    "import warnings\n",
    "warnings.filterwarnings('ignore')\n",
    "import statsmodels.api as sm\n",
    "import os\n"
   ]
  },
  {
   "cell_type": "markdown",
   "id": "6e8db90a",
   "metadata": {},
   "source": [
    "## Load File and Explore Data"
   ]
  },
  {
   "cell_type": "code",
   "execution_count": 2,
   "id": "99675b55",
   "metadata": {},
   "outputs": [],
   "source": [
    "os.chdir(\"C:/Users/vishw/OneDrive/Documents/Imarticus/Python/Machine Learning\")"
   ]
  },
  {
   "cell_type": "code",
   "execution_count": 3,
   "id": "7d4ecb1f",
   "metadata": {},
   "outputs": [],
   "source": [
    "fishh = pd.read_csv(\"Fish_dataset.csv\")"
   ]
  },
  {
   "cell_type": "code",
   "execution_count": 4,
   "id": "32700799",
   "metadata": {},
   "outputs": [],
   "source": [
    "# creating copy of original dataset\n",
    "fish = fishh.copy()"
   ]
  },
  {
   "cell_type": "code",
   "execution_count": 5,
   "id": "9c03d7e7",
   "metadata": {},
   "outputs": [
    {
     "data": {
      "text/html": [
       "<div>\n",
       "<style scoped>\n",
       "    .dataframe tbody tr th:only-of-type {\n",
       "        vertical-align: middle;\n",
       "    }\n",
       "\n",
       "    .dataframe tbody tr th {\n",
       "        vertical-align: top;\n",
       "    }\n",
       "\n",
       "    .dataframe thead th {\n",
       "        text-align: right;\n",
       "    }\n",
       "</style>\n",
       "<table border=\"1\" class=\"dataframe\">\n",
       "  <thead>\n",
       "    <tr style=\"text-align: right;\">\n",
       "      <th></th>\n",
       "      <th>Species</th>\n",
       "      <th>Weight</th>\n",
       "      <th>Length1</th>\n",
       "      <th>Length2</th>\n",
       "      <th>Length3</th>\n",
       "      <th>Height</th>\n",
       "      <th>Width</th>\n",
       "    </tr>\n",
       "  </thead>\n",
       "  <tbody>\n",
       "    <tr>\n",
       "      <th>0</th>\n",
       "      <td>Bream</td>\n",
       "      <td>242.0</td>\n",
       "      <td>23.2</td>\n",
       "      <td>25.4</td>\n",
       "      <td>30.0</td>\n",
       "      <td>11.5200</td>\n",
       "      <td>4.0200</td>\n",
       "    </tr>\n",
       "    <tr>\n",
       "      <th>1</th>\n",
       "      <td>Bream</td>\n",
       "      <td>290.0</td>\n",
       "      <td>24.0</td>\n",
       "      <td>26.3</td>\n",
       "      <td>31.2</td>\n",
       "      <td>12.4800</td>\n",
       "      <td>4.3056</td>\n",
       "    </tr>\n",
       "    <tr>\n",
       "      <th>2</th>\n",
       "      <td>Bream</td>\n",
       "      <td>340.0</td>\n",
       "      <td>23.9</td>\n",
       "      <td>26.5</td>\n",
       "      <td>31.1</td>\n",
       "      <td>12.3778</td>\n",
       "      <td>4.6961</td>\n",
       "    </tr>\n",
       "    <tr>\n",
       "      <th>3</th>\n",
       "      <td>Bream</td>\n",
       "      <td>363.0</td>\n",
       "      <td>26.3</td>\n",
       "      <td>29.0</td>\n",
       "      <td>33.5</td>\n",
       "      <td>12.7300</td>\n",
       "      <td>4.4555</td>\n",
       "    </tr>\n",
       "    <tr>\n",
       "      <th>4</th>\n",
       "      <td>Bream</td>\n",
       "      <td>430.0</td>\n",
       "      <td>26.5</td>\n",
       "      <td>29.0</td>\n",
       "      <td>34.0</td>\n",
       "      <td>12.4440</td>\n",
       "      <td>5.1340</td>\n",
       "    </tr>\n",
       "  </tbody>\n",
       "</table>\n",
       "</div>"
      ],
      "text/plain": [
       "  Species  Weight  Length1  Length2  Length3   Height   Width\n",
       "0   Bream   242.0     23.2     25.4     30.0  11.5200  4.0200\n",
       "1   Bream   290.0     24.0     26.3     31.2  12.4800  4.3056\n",
       "2   Bream   340.0     23.9     26.5     31.1  12.3778  4.6961\n",
       "3   Bream   363.0     26.3     29.0     33.5  12.7300  4.4555\n",
       "4   Bream   430.0     26.5     29.0     34.0  12.4440  5.1340"
      ]
     },
     "execution_count": 5,
     "metadata": {},
     "output_type": "execute_result"
    }
   ],
   "source": [
    "# Display first 5 records\n",
    "fish.head()"
   ]
  },
  {
   "cell_type": "code",
   "execution_count": 6,
   "id": "5d7b2d39",
   "metadata": {},
   "outputs": [
    {
     "data": {
      "text/plain": [
       "Index(['Species', 'Weight', 'Length1', 'Length2', 'Length3', 'Height',\n",
       "       'Width'],\n",
       "      dtype='object')"
      ]
     },
     "execution_count": 6,
     "metadata": {},
     "output_type": "execute_result"
    }
   ],
   "source": [
    "# Display columns in the dataset\n",
    "fish.columns"
   ]
  },
  {
   "cell_type": "code",
   "execution_count": 7,
   "id": "0f1d4626",
   "metadata": {},
   "outputs": [
    {
     "name": "stdout",
     "output_type": "stream",
     "text": [
      "<class 'pandas.core.frame.DataFrame'>\n",
      "RangeIndex: 159 entries, 0 to 158\n",
      "Data columns (total 7 columns):\n",
      " #   Column   Non-Null Count  Dtype  \n",
      "---  ------   --------------  -----  \n",
      " 0   Species  159 non-null    object \n",
      " 1   Weight   159 non-null    float64\n",
      " 2   Length1  159 non-null    float64\n",
      " 3   Length2  159 non-null    float64\n",
      " 4   Length3  159 non-null    float64\n",
      " 5   Height   159 non-null    float64\n",
      " 6   Width    159 non-null    float64\n",
      "dtypes: float64(6), object(1)\n",
      "memory usage: 8.8+ KB\n"
     ]
    }
   ],
   "source": [
    "# Display Information about the data\n",
    "fish.info()"
   ]
  },
  {
   "cell_type": "code",
   "execution_count": 8,
   "id": "0c238a67",
   "metadata": {},
   "outputs": [
    {
     "data": {
      "text/plain": [
       "(159, 7)"
      ]
     },
     "execution_count": 8,
     "metadata": {},
     "output_type": "execute_result"
    }
   ],
   "source": [
    "# Display 'n' of columns and rows\n",
    "fish.shape"
   ]
  },
  {
   "cell_type": "code",
   "execution_count": 9,
   "id": "f5bed799",
   "metadata": {},
   "outputs": [
    {
     "data": {
      "text/plain": [
       "Species    0\n",
       "Weight     0\n",
       "Length1    0\n",
       "Length2    0\n",
       "Length3    0\n",
       "Height     0\n",
       "Width      0\n",
       "dtype: int64"
      ]
     },
     "execution_count": 9,
     "metadata": {},
     "output_type": "execute_result"
    }
   ],
   "source": [
    "## Display NULL's in the dataset\n",
    "fish.isna().sum()"
   ]
  },
  {
   "cell_type": "code",
   "execution_count": 10,
   "id": "84cd7db8",
   "metadata": {},
   "outputs": [
    {
     "data": {
      "text/plain": [
       "0.0"
      ]
     },
     "execution_count": 10,
     "metadata": {},
     "output_type": "execute_result"
    }
   ],
   "source": [
    "fish[\"Weight\"].min()"
   ]
  },
  {
   "cell_type": "code",
   "execution_count": 11,
   "id": "49de1ab7",
   "metadata": {},
   "outputs": [],
   "source": [
    "# There is 'Weight' 0.0 however we replace it with median.\n",
    "\n",
    "fish.replace(0.0, np.nan, inplace=True)"
   ]
  },
  {
   "cell_type": "code",
   "execution_count": 12,
   "id": "54fad03c",
   "metadata": {},
   "outputs": [
    {
     "data": {
      "text/plain": [
       "281.5"
      ]
     },
     "execution_count": 12,
     "metadata": {},
     "output_type": "execute_result"
    }
   ],
   "source": [
    "fish[\"Weight\"].median()"
   ]
  },
  {
   "cell_type": "code",
   "execution_count": 13,
   "id": "3f8d7afa",
   "metadata": {},
   "outputs": [],
   "source": [
    "fish[\"Weight\"].replace(np.nan, 281.5, inplace=True)"
   ]
  },
  {
   "cell_type": "code",
   "execution_count": 14,
   "id": "54e5172e",
   "metadata": {},
   "outputs": [
    {
     "data": {
      "text/plain": [
       "['Weight', 'Length1', 'Length2', 'Length3', 'Height', 'Width']"
      ]
     },
     "execution_count": 14,
     "metadata": {},
     "output_type": "execute_result"
    }
   ],
   "source": [
    "# Creating a list of Numeric columns\n",
    "numeric_columns = fish.select_dtypes(include=np.number).columns.tolist()\n",
    "numeric_columns"
   ]
  },
  {
   "cell_type": "code",
   "execution_count": 15,
   "id": "0f5e1936",
   "metadata": {},
   "outputs": [
    {
     "name": "stdout",
     "output_type": "stream",
     "text": [
      "Perch        56\n",
      "Bream        35\n",
      "Roach        20\n",
      "Pike         17\n",
      "Smelt        14\n",
      "Parkki       11\n",
      "Whitefish     6\n",
      "Name: Species, dtype: int64\n"
     ]
    }
   ],
   "source": [
    "# Creating a list of Category columns\n",
    "category_columns = fish.select_dtypes(include=object).columns.tolist()\n",
    "\n",
    "# Checking for sub-categories count\n",
    "\n",
    "for column in category_columns:\n",
    "    print(fish[column].value_counts())"
   ]
  },
  {
   "cell_type": "code",
   "execution_count": 16,
   "id": "0e1a3a5e",
   "metadata": {},
   "outputs": [
    {
     "data": {
      "text/html": [
       "<div>\n",
       "<style scoped>\n",
       "    .dataframe tbody tr th:only-of-type {\n",
       "        vertical-align: middle;\n",
       "    }\n",
       "\n",
       "    .dataframe tbody tr th {\n",
       "        vertical-align: top;\n",
       "    }\n",
       "\n",
       "    .dataframe thead th {\n",
       "        text-align: right;\n",
       "    }\n",
       "</style>\n",
       "<table border=\"1\" class=\"dataframe\">\n",
       "  <thead>\n",
       "    <tr style=\"text-align: right;\">\n",
       "      <th></th>\n",
       "      <th>Weight</th>\n",
       "      <th>Length1</th>\n",
       "      <th>Length2</th>\n",
       "      <th>Length3</th>\n",
       "      <th>Height</th>\n",
       "      <th>Width</th>\n",
       "    </tr>\n",
       "  </thead>\n",
       "  <tbody>\n",
       "    <tr>\n",
       "      <th>count</th>\n",
       "      <td>159.000000</td>\n",
       "      <td>159.000000</td>\n",
       "      <td>159.000000</td>\n",
       "      <td>159.000000</td>\n",
       "      <td>159.000000</td>\n",
       "      <td>159.000000</td>\n",
       "    </tr>\n",
       "    <tr>\n",
       "      <th>mean</th>\n",
       "      <td>400.096855</td>\n",
       "      <td>26.247170</td>\n",
       "      <td>28.415723</td>\n",
       "      <td>31.227044</td>\n",
       "      <td>8.970994</td>\n",
       "      <td>4.417486</td>\n",
       "    </tr>\n",
       "    <tr>\n",
       "      <th>std</th>\n",
       "      <td>356.689642</td>\n",
       "      <td>9.996441</td>\n",
       "      <td>10.716328</td>\n",
       "      <td>11.610246</td>\n",
       "      <td>4.286208</td>\n",
       "      <td>1.685804</td>\n",
       "    </tr>\n",
       "    <tr>\n",
       "      <th>min</th>\n",
       "      <td>5.900000</td>\n",
       "      <td>7.500000</td>\n",
       "      <td>8.400000</td>\n",
       "      <td>8.800000</td>\n",
       "      <td>1.728400</td>\n",
       "      <td>1.047600</td>\n",
       "    </tr>\n",
       "    <tr>\n",
       "      <th>25%</th>\n",
       "      <td>122.500000</td>\n",
       "      <td>19.050000</td>\n",
       "      <td>21.000000</td>\n",
       "      <td>23.150000</td>\n",
       "      <td>5.944800</td>\n",
       "      <td>3.385650</td>\n",
       "    </tr>\n",
       "    <tr>\n",
       "      <th>50%</th>\n",
       "      <td>281.500000</td>\n",
       "      <td>25.200000</td>\n",
       "      <td>27.300000</td>\n",
       "      <td>29.400000</td>\n",
       "      <td>7.786000</td>\n",
       "      <td>4.248500</td>\n",
       "    </tr>\n",
       "    <tr>\n",
       "      <th>75%</th>\n",
       "      <td>650.000000</td>\n",
       "      <td>32.700000</td>\n",
       "      <td>35.500000</td>\n",
       "      <td>39.650000</td>\n",
       "      <td>12.365900</td>\n",
       "      <td>5.584500</td>\n",
       "    </tr>\n",
       "    <tr>\n",
       "      <th>max</th>\n",
       "      <td>1650.000000</td>\n",
       "      <td>59.000000</td>\n",
       "      <td>63.400000</td>\n",
       "      <td>68.000000</td>\n",
       "      <td>18.957000</td>\n",
       "      <td>8.142000</td>\n",
       "    </tr>\n",
       "  </tbody>\n",
       "</table>\n",
       "</div>"
      ],
      "text/plain": [
       "            Weight     Length1     Length2     Length3      Height       Width\n",
       "count   159.000000  159.000000  159.000000  159.000000  159.000000  159.000000\n",
       "mean    400.096855   26.247170   28.415723   31.227044    8.970994    4.417486\n",
       "std     356.689642    9.996441   10.716328   11.610246    4.286208    1.685804\n",
       "min       5.900000    7.500000    8.400000    8.800000    1.728400    1.047600\n",
       "25%     122.500000   19.050000   21.000000   23.150000    5.944800    3.385650\n",
       "50%     281.500000   25.200000   27.300000   29.400000    7.786000    4.248500\n",
       "75%     650.000000   32.700000   35.500000   39.650000   12.365900    5.584500\n",
       "max    1650.000000   59.000000   63.400000   68.000000   18.957000    8.142000"
      ]
     },
     "execution_count": 16,
     "metadata": {},
     "output_type": "execute_result"
    }
   ],
   "source": [
    "# Display five point Summary of the dataset\n",
    "fish.describe()"
   ]
  },
  {
   "cell_type": "code",
   "execution_count": 17,
   "id": "321e84d5",
   "metadata": {},
   "outputs": [
    {
     "data": {
      "text/html": [
       "<div>\n",
       "<style scoped>\n",
       "    .dataframe tbody tr th:only-of-type {\n",
       "        vertical-align: middle;\n",
       "    }\n",
       "\n",
       "    .dataframe tbody tr th {\n",
       "        vertical-align: top;\n",
       "    }\n",
       "\n",
       "    .dataframe thead th {\n",
       "        text-align: right;\n",
       "    }\n",
       "</style>\n",
       "<table border=\"1\" class=\"dataframe\">\n",
       "  <thead>\n",
       "    <tr style=\"text-align: right;\">\n",
       "      <th></th>\n",
       "      <th>Species</th>\n",
       "    </tr>\n",
       "  </thead>\n",
       "  <tbody>\n",
       "    <tr>\n",
       "      <th>count</th>\n",
       "      <td>159</td>\n",
       "    </tr>\n",
       "    <tr>\n",
       "      <th>unique</th>\n",
       "      <td>7</td>\n",
       "    </tr>\n",
       "    <tr>\n",
       "      <th>top</th>\n",
       "      <td>Perch</td>\n",
       "    </tr>\n",
       "    <tr>\n",
       "      <th>freq</th>\n",
       "      <td>56</td>\n",
       "    </tr>\n",
       "  </tbody>\n",
       "</table>\n",
       "</div>"
      ],
      "text/plain": [
       "       Species\n",
       "count      159\n",
       "unique       7\n",
       "top      Perch\n",
       "freq        56"
      ]
     },
     "execution_count": 17,
     "metadata": {},
     "output_type": "execute_result"
    }
   ],
   "source": [
    "# Display summary of categorical dataset\n",
    "fish.describe(include=object)"
   ]
  },
  {
   "cell_type": "markdown",
   "id": "9e9cccd9",
   "metadata": {},
   "source": [
    "# Bar chart showing count of each species "
   ]
  },
  {
   "cell_type": "code",
   "execution_count": 18,
   "id": "50c6fdfd",
   "metadata": {},
   "outputs": [
    {
     "data": {
      "image/png": "[encoded data removed]",
      "text/plain": [
       "<Figure size 1080x288 with 1 Axes>"
      ]
     },
     "metadata": {
      "needs_background": "light"
     },
     "output_type": "display_data"
    }
   ],
   "source": [
    "species = fish[category_columns].value_counts()\n",
    "plt.figure(figsize=(15,4))\n",
    "ax = species.plot(kind='bar', rot=0, color=\"b\")\n",
    "ax.set_title('Bar plot showing count of individual species', y = 1)\n",
    "\n",
    "\n",
    "for rect in ax.patches:\n",
    "    y_value = rect.get_height()\n",
    "    x_value = rect.get_x() + rect.get_width() / 2\n",
    "    space = 1\n",
    "    label = \"{:.0f}\".format(y_value)\n",
    "    ax.annotate(label, (x_value, y_value), xytext=(0, space), textcoords=\"offset points\", ha='center', va='bottom')\n",
    "plt.show()"
   ]
  },
  {
   "cell_type": "markdown",
   "id": "084be5aa",
   "metadata": {},
   "source": [
    "## Identify outliers and remove if any"
   ]
  },
  {
   "cell_type": "code",
   "execution_count": 19,
   "id": "2f286e3c",
   "metadata": {},
   "outputs": [],
   "source": [
    "# Capping of Outlier\n",
    "\n",
    "def Outliers_Removal(numeric_columns):\n",
    "    Q1=fish[numeric_columns].quantile(0.25)\n",
    "    Q3=fish[numeric_columns].quantile(0.75)\n",
    "    IQR=Q3-Q1\n",
    "    LW= Q1-1.5*IQR\n",
    "    RW= Q3+1.5*IQR\n",
    "    fish[numeric_columns]=np.clip(fish[numeric_columns], LW, RW)"
   ]
  },
  {
   "cell_type": "code",
   "execution_count": 20,
   "id": "14981c6c",
   "metadata": {},
   "outputs": [],
   "source": [
    "for var in numeric_columns:\n",
    "    Outliers_Removal(var)"
   ]
  },
  {
   "cell_type": "code",
   "execution_count": 21,
   "id": "23141bb7",
   "metadata": {},
   "outputs": [
    {
     "data": {
      "image/png": "[encoded data removed]",
      "text/plain": [
       "<Figure size 1440x2160 with 6 Axes>"
      ]
     },
     "metadata": {
      "needs_background": "light"
     },
     "output_type": "display_data"
    }
   ],
   "source": [
    "# Check for Outlier detection\n",
    "\n",
    "plt.figure(figsize=(20,30))\n",
    "\n",
    "for i, variable in enumerate (numeric_columns):\n",
    "    plt.subplot(10,4, i+1)\n",
    "    plt.boxplot(fish[variable], whis=1.5)\n",
    "    plt.tight_layout()\n",
    "    plt.title(variable)\n",
    "    \n",
    "plt.show()"
   ]
  },
  {
   "cell_type": "markdown",
   "id": "db9f34ea",
   "metadata": {},
   "source": [
    "# Linear Regression Model"
   ]
  },
  {
   "cell_type": "code",
   "execution_count": 22,
   "id": "0f4e9ce7",
   "metadata": {},
   "outputs": [],
   "source": [
    "# Defining Dependent and Independent Variable\n",
    "\n",
    "X = fish.drop([\"Weight\"], axis=1)\n",
    "Y = fish[[\"Weight\"]]"
   ]
  },
  {
   "cell_type": "code",
   "execution_count": 23,
   "id": "236bf6ef",
   "metadata": {},
   "outputs": [],
   "source": [
    "# Creating Dummy Variables for category_columns\n",
    "\n",
    "X = pd.get_dummies(X, columns=category_columns, drop_first=True)"
   ]
  },
  {
   "cell_type": "code",
   "execution_count": 24,
   "id": "d4a25b8c",
   "metadata": {},
   "outputs": [],
   "source": [
    "# Splitting the data into train and test\n",
    "\n",
    "from sklearn.model_selection import train_test_split\n",
    "\n",
    "X_train, X_test, Y_train, Y_test = train_test_split(X,Y,test_size=0.3, random_state =42)"
   ]
  },
  {
   "cell_type": "code",
   "execution_count": 25,
   "id": "1dda7a86",
   "metadata": {},
   "outputs": [
    {
     "data": {
      "text/plain": [
       "LinearRegression()"
      ]
     },
     "execution_count": 25,
     "metadata": {},
     "output_type": "execute_result"
    }
   ],
   "source": [
    "# Model fitting\n",
    "\n",
    "from sklearn.linear_model import LinearRegression\n",
    "ln = LinearRegression()\n",
    "ln.fit(X_train, Y_train)"
   ]
  },
  {
   "cell_type": "code",
   "execution_count": 26,
   "id": "27233d8d",
   "metadata": {},
   "outputs": [
    {
     "name": "stdout",
     "output_type": "stream",
     "text": [
      "Intercept of te Linear Equation: [-1012.22592026]\n",
      "Coeff of the Linear Equation: [[-44.09738845 -22.69214972  87.39179286  12.98846256  27.75905957\n",
      "  267.00535246 344.18767271  83.49731722 225.22325516 566.88767651\n",
      "  231.54899587]]\n"
     ]
    }
   ],
   "source": [
    "# Intercept and Coefficient of Linear Equation\n",
    "\n",
    "print(\"Intercept of te Linear Equation:\", ln.intercept_)\n",
    "print(\"Coeff of the Linear Equation:\", ln.coef_)"
   ]
  },
  {
   "cell_type": "code",
   "execution_count": 27,
   "id": "ae20020b",
   "metadata": {},
   "outputs": [],
   "source": [
    "# Predicting values from Model\n",
    "\n",
    "from sklearn.metrics import mean_absolute_error, mean_squared_error, r2_score\n",
    "pred_train = ln.predict(X_train)\n",
    "pred_test = ln.predict(X_test)"
   ]
  },
  {
   "cell_type": "markdown",
   "id": "65cedf8e",
   "metadata": {},
   "source": [
    "# Mean Absolute Error"
   ]
  },
  {
   "cell_type": "code",
   "execution_count": 28,
   "id": "2801e69a",
   "metadata": {},
   "outputs": [
    {
     "name": "stdout",
     "output_type": "stream",
     "text": [
      "Train MAE: 66.65635426764577\n",
      "Test MAE: 59.40723923431424\n"
     ]
    }
   ],
   "source": [
    "print(\"Train MAE:\",mean_absolute_error(Y_train, pred_train))\n",
    "print(\"Test MAE:\",mean_absolute_error(Y_test, pred_test))"
   ]
  },
  {
   "cell_type": "markdown",
   "id": "87b399d9",
   "metadata": {},
   "source": [
    "# Root Mean Squared Error"
   ]
  },
  {
   "cell_type": "code",
   "execution_count": 49,
   "id": "30704756",
   "metadata": {},
   "outputs": [
    {
     "name": "stdout",
     "output_type": "stream",
     "text": [
      "Train RMSE: 85.71931386846443\n",
      "Test RMSE: 77.0518667006512\n"
     ]
    }
   ],
   "source": [
    "# Helps to find over fitting and underfitting - difference should be minimum\n",
    "\n",
    "print(\"Train RMSE:\",mean_squared_error(Y_train, pred_train)**0.5)\n",
    "print(\"Test RMSE:\",mean_squared_error(Y_test, pred_test)**0.5)"
   ]
  },
  {
   "cell_type": "markdown",
   "id": "381d3d50",
   "metadata": {},
   "source": [
    "# R Square for Training Data"
   ]
  },
  {
   "cell_type": "code",
   "execution_count": 30,
   "id": "80afe4a6",
   "metadata": {},
   "outputs": [
    {
     "name": "stdout",
     "output_type": "stream",
     "text": [
      "R Squared Train: 0.9379609241097878\n"
     ]
    }
   ],
   "source": [
    "print (\"R Squared Train:\",r2_score(Y_train, pred_train))"
   ]
  },
  {
   "cell_type": "code",
   "execution_count": 31,
   "id": "f0ed12c1",
   "metadata": {},
   "outputs": [
    {
     "name": "stdout",
     "output_type": "stream",
     "text": [
      "R Squared Test: 0.9515323379385672\n"
     ]
    }
   ],
   "source": [
    "# R Square for Test Data\n",
    "print(\"R Squared Test:\", r2_score(Y_test, pred_test))"
   ]
  },
  {
   "cell_type": "markdown",
   "id": "cb8a447f",
   "metadata": {},
   "source": [
    "# Mean Abosolute Percentage Error"
   ]
  },
  {
   "cell_type": "code",
   "execution_count": 32,
   "id": "e521e282",
   "metadata": {},
   "outputs": [
    {
     "name": "stdout",
     "output_type": "stream",
     "text": [
      "Train MAPE: 1.0950894116005132\n"
     ]
    }
   ],
   "source": [
    "from sklearn.metrics import mean_absolute_percentage_error\n",
    "print (\"Train MAPE:\",mean_absolute_percentage_error(Y_train, pred_train))"
   ]
  },
  {
   "cell_type": "code",
   "execution_count": 33,
   "id": "b4ad3a57",
   "metadata": {},
   "outputs": [
    {
     "name": "stdout",
     "output_type": "stream",
     "text": [
      "Test MAPE: 0.9726419439495168\n"
     ]
    }
   ],
   "source": [
    "from sklearn.metrics import mean_absolute_percentage_error\n",
    "print (\"Test MAPE:\",mean_absolute_percentage_error(Y_test, pred_test))"
   ]
  },
  {
   "cell_type": "markdown",
   "id": "6f997270",
   "metadata": {},
   "source": [
    "# Comparison of Predicted values with Actual Values using Distribution Plot"
   ]
  },
  {
   "cell_type": "code",
   "execution_count": 34,
   "id": "7698607b",
   "metadata": {},
   "outputs": [
    {
     "data": {
      "image/png": "[encoded data removed]",
      "text/plain": [
       "<Figure size 432x288 with 1 Axes>"
      ]
     },
     "metadata": {
      "needs_background": "light"
     },
     "output_type": "display_data"
    }
   ],
   "source": [
    "ax1 = sns.distplot(Y_test, hist=False, color=\"r\", label = \"Actual Values\")\n",
    "sns.distplot(pred_test, hist=False, color=\"b\", label = \"Fitted Values\", ax=ax1)\n",
    "plt.title(\"Actual vs Fitted for Model\")\n",
    "plt.xlabel(\"Weight\")\n",
    "plt.ylabel(\"Proportion/Density of Weighgt\")\n",
    "plt.show()"
   ]
  },
  {
   "cell_type": "markdown",
   "id": "fcd83424",
   "metadata": {},
   "source": [
    "# Intepretation\n",
    "* The difference between the actual value or observed value and the predicted value is called the residual in regression analysis\n",
    "* In the above drawn graph red line shows actual weight and Blue line shows predicted value of the model and it predicts closer to the actual value\n",
    "* Root Mean Squared Error of train and test data are not different, indicating that our model is not overfitting the train data.\n",
    "* Mean Absolute Error indicates that our current model is able to predict weight of fishes within mean error of 59 on test data.\n",
    "* The units of both RMSE and MAE are the same. But RMSE is greater than MAE because it panalises the outliers more.\n",
    "* Mean Absolute Percentage Error is 0.97 on the test data."
   ]
  },
  {
   "cell_type": "markdown",
   "id": "8139e7d8",
   "metadata": {},
   "source": [
    "## The mean score of the model at 95% confidence interval"
   ]
  },
  {
   "cell_type": "code",
   "execution_count": 41,
   "id": "09729a7f",
   "metadata": {},
   "outputs": [],
   "source": [
    "import scipy.stats as stats"
   ]
  },
  {
   "cell_type": "code",
   "execution_count": 42,
   "id": "2ad4ebd0",
   "metadata": {},
   "outputs": [
    {
     "data": {
      "text/plain": [
       "Weight     397.101572\n",
       "Length1     26.175000\n",
       "Length2     28.342453\n",
       "Length3     31.204403\n",
       "Height       8.970994\n",
       "Width        4.417486\n",
       "dtype: float64"
      ]
     },
     "execution_count": 42,
     "metadata": {},
     "output_type": "execute_result"
    }
   ],
   "source": [
    "fish.mean()"
   ]
  },
  {
   "cell_type": "code",
   "execution_count": 46,
   "id": "ad980f1d",
   "metadata": {},
   "outputs": [
    {
     "data": {
      "text/plain": [
       "array([[57.05774972],\n",
       "       [92.8353032 ]])"
      ]
     },
     "execution_count": 46,
     "metadata": {},
     "output_type": "execute_result"
    }
   ],
   "source": [
    "confidence = 0.95\n",
    "s = (pred_test - Y_test) ** 2\n",
    "np.sqrt(stats.t.interval(confidence, len(s) - 1, loc=s.mean(),\n",
    "    scale=stats.sem(s)))"
   ]
  },
  {
   "cell_type": "code",
   "execution_count": 50,
   "id": "742f3d37",
   "metadata": {},
   "outputs": [
    {
     "data": {
      "text/plain": [
       "(array([284.64032498]), array([466.22915768]))"
      ]
     },
     "execution_count": 50,
     "metadata": {},
     "output_type": "execute_result"
    }
   ],
   "source": [
    "st.norm.interval(alpha=0.95, loc=np.mean(pred_test), scale=st.sem(pred_test))"
   ]
  },
  {
   "cell_type": "code",
   "execution_count": 51,
   "id": "8918b9cd",
   "metadata": {},
   "outputs": [
    {
     "data": {
      "text/plain": [
       "(array([291.8368027]), array([491.95486396]))"
      ]
     },
     "execution_count": 51,
     "metadata": {},
     "output_type": "execute_result"
    }
   ],
   "source": [
    "st.norm.interval(alpha=0.95, loc=np.mean(Y_test), scale=st.sem(Y_test))"
   ]
  },
  {
   "cell_type": "code",
   "execution_count": null,
   "id": "8d919599",
   "metadata": {},
   "outputs": [],
   "source": []
  }
 ],
 "metadata": {
  "kernelspec": {
   "display_name": "Python 3 (ipykernel)",
   "language": "python",
   "name": "python3"
  },
  "language_info": {
   "codemirror_mode": {
    "name": "ipython",
    "version": 3
   },
   "file_extension": ".py",
   "mimetype": "text/x-python",
   "name": "python",
   "nbconvert_exporter": "python",
   "pygments_lexer": "ipython3",
   "version": "3.9.12"
  }
 },
 "nbformat": 4,
 "nbformat_minor": 5
}
